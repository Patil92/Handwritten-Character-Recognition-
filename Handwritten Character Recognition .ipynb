{
 "cells": [
  {
   "cell_type": "code",
   "execution_count": 1,
   "metadata": {},
   "outputs": [
    {
     "name": "stdout",
     "output_type": "stream",
     "text": [
      "The shape of our cells array : (50L, 100L, 20L, 20L)\n",
      "Accuracy is = 91.76%\n"
     ]
    }
   ],
   "source": [
    "import numpy as np\n",
    "import cv2\n",
    "\n",
    "image=cv2.imread('digits.png')\n",
    "gray=cv2.cvtColor(image,cv2.COLOR_BGR2GRAY)\n",
    "small=cv2.pyrDown(image)  #Reducing Image size\n",
    "cv2.imshow('Digits Image',small)\n",
    "cv2.waitKey(0)\n",
    "cv2.destroyAllWindows()\n",
    "\n",
    "cells=[np.hsplit(row,100) for row in np.split(gray,50)] \n",
    "x=np.array(cells)\n",
    "print('The shape of our cells array : '+str(x.shape))\n",
    "\n",
    "# Now we prepare train_data and test_data.\n",
    "train = x[:,:50].reshape(-1,400).astype(np.float32) # Size = (2500,400)\n",
    "test = x[:,50:100].reshape(-1,400).astype(np.float32) # Size = (2500,400)\n",
    "# Create labels for train and test data\n",
    "\n",
    "k = np.arange(10)\n",
    "train_labels = np.repeat(k,250)[:,np.newaxis]\n",
    "test_labels = train_labels.copy()\n",
    "# Initiate kNN, train the data, then test it with test data for k=1\n",
    "knn = cv2.ml.KNearest_create()\n",
    "knn.train(train, cv2.ml.ROW_SAMPLE, train_labels)\n",
    "ret,result,neighbours,dist = knn.findNearest(test,k=5)\n",
    "\n",
    "# Now we check the accuracy of classification\n",
    "# For that, compare the result with test_labels and check which are wrong\n",
    "matches = result==test_labels\n",
    "correct = np.count_nonzero(matches)\n",
    "accuracy = correct*100.0/result.size\n",
    "\n",
    "print(\"Accuracy is = %.2f\" %accuracy +\"%\")\n",
    "\n"
   ]
  },
  {
   "cell_type": "code",
   "execution_count": 13,
   "metadata": {},
   "outputs": [],
   "source": [
    "import cv2\n",
    "import numpy as np\n",
    "\n",
    "def x_cord_contour(contour):\n",
    "    #this fun take a counter from find contour it then outputs the x.centroid co-ordinate\n",
    "    if cv2.contourArea(contour)>10:\n",
    "        M = cv2.moments(contour)\n",
    "        return(int(M['m10']/M['m00']))\n",
    "    \n",
    "def makeSquare(not_square):\n",
    "    BLACK=[0,0,0]\n",
    "    img_dim=not_square.shape\n",
    "    height=img_dim[0]\n",
    "    width=img_dim[1]\n",
    "    \n",
    "    if(height==width):\n",
    "        square=not_square\n",
    "        return square\n",
    "    else:\n",
    "        doublesize=cv2.resize(not_square,(2*width,2*height),interpolation=cv2.INTER_CUBIC)\n",
    "        height=height*2;\n",
    "        width=width*2;\n",
    "        \n",
    "        if(height > width ):\n",
    "            pad=(height-width)/2;\n",
    "            \n",
    "            doublesize_square=cv2.copyMakeBorder(doublesize,0,0,pad,pad,cv2.BORDER_CONSTANT,value=BLACK)\n",
    "       \n",
    "        else:\n",
    "            pad=(width-height)/2;\n",
    "            doublesize_square=cv2.copyMakeBorder(doublesize,pad,pad,0,0,cv2.BORDER_CONSTANT,value=BLACK)\n",
    "            \n",
    "    doublesize_square_dim=doublesize_square.shape\n",
    "    \n",
    "    return doublesize_square\n",
    "\n",
    "def resize_to_pixels(dimensions,image):\n",
    "    buffer_fix=4\n",
    "    dimensions=dimensions-buffer_fix\n",
    "    squared=image\n",
    "    r=float(dimensions)/squared.shape[1]\n",
    "    dim=(dimensions,int(squared.shape[0]*r))\n",
    "    resized=cv2.resize(image,dim,interpolation=cv2.INTER_AREA)\n",
    "    img_dim2=resized.shape\n",
    "    height_r=img_dim2[0]\n",
    "    width_r=img_dim2[1]\n",
    "    BLACK=[0,0,0]\n",
    "    if(height_r > width_r):\n",
    "        resized=cv2.copyMakeBorder(resized,0,0,0,1,cv2.BORDER_CONSTANT,value=BLACK)\n",
    "    if(height_r < width_r):\n",
    "        resized=cv2.copyMakeBorder(resized,1,0,0,0,cv2.BORDER_CONSTANT,value=BLACK)\n",
    "    p=2\n",
    "    \n",
    "    Resizedimg=cv2.copyMakeBorder(resized,p,p,p,p,cv2.BORDER_CONSTANT,value=BLACK)\n",
    "    img_dim=Resizedimg.shape\n",
    "    height=img_dim[0]\n",
    "    width=img_dim[1]\n",
    "        \n",
    "    return Resizedimg\n"
   ]
  },
  {
   "cell_type": "code",
   "execution_count": 29,
   "metadata": {},
   "outputs": [
    {
     "name": "stdout",
     "output_type": "stream",
     "text": [
      "The number is : 80362\n"
     ]
    }
   ],
   "source": [
    "import cv2\n",
    "import numpy as np\n",
    "\n",
    "image=cv2.imread('8.png')\n",
    "cv2.imshow('Digits Image',image)\n",
    "cv2.waitKey(0)\n",
    "\n",
    "\n",
    "gray=cv2.cvtColor(image,cv2.COLOR_BGR2GRAY)\n",
    "gray = cv2.bilateralFilter(gray, 11, 17, 17)\n",
    "cv2.imshow('Gray',image)\n",
    "cv2.waitKey(0)\n",
    "\n",
    "blurred=cv2.GaussianBlur(gray,(5,5),0)\n",
    "cv2.imshow('Blurred ',blurred)\n",
    "cv2.waitKey(0)\n",
    "\n",
    "edges=cv2.Canny(blurred,30,150)\n",
    "cv2.imshow(\"Canny \",edges)\n",
    "cv2.waitKey(0)\n",
    "\n",
    "#cv2.destroyAllWindows()\n",
    "\n",
    "_,contours,_=cv2.findContours(edges.copy(),cv2.RETR_EXTERNAL,cv2.CHAIN_APPROX_NONE)\n",
    "\n",
    "contours=sorted(contours, key = x_cord_contour, reverse = False)\n",
    "#contours= sorted(contours, key = cv2.contourArea, reverse = False)\n",
    "full_number=[]\n",
    "\n",
    "\n",
    "for c in contours:\n",
    "    (x,y,w,h)=cv2.boundingRect(c)\n",
    "    \n",
    "    cv2.drawContours(image,contours,-1,(0,255,0),3)\n",
    "    cv2.imshow(\"Contours \",image)\n",
    "    \n",
    "    if w>=5 and h>=25:\n",
    "        roi=blurred[y:y+h,x:x+w]\n",
    "        ret,roi=cv2.threshold(roi,127,255,cv2.THRESH_BINARY_INV)\n",
    "        squared=makeSquare(roi)\n",
    "        #cv2.imshow(\"asdfgh\",squared)\n",
    "        final=resize_to_pixels(20,squared)\n",
    "        cv2.imshow(\"Final\",final)\n",
    "        final_array=final.reshape((1,400))\n",
    "        final_array=final_array.astype(np.float32)\n",
    "        ret,result,neighbours,dist=knn.findNearest(final_array,k=10)\n",
    "        number=str(int(float(result[0])))\n",
    "        full_number.append(number)\n",
    "        cv2.rectangle(image,(x,y),(x+w,y+h),(0,0,255),2)\n",
    "        cv2.putText(image,number,(x,x+155),cv2.FONT_HERSHEY_COMPLEX,2,(255,0,0),2)\n",
    "        cv2.imshow(\"Image\",image)\n",
    "        cv2.waitKey(0)\n",
    "        \n",
    "        \n",
    "cv2.destroyAllWindows()\n",
    "print(\"The number is : \"+''.join(full_number))"
   ]
  },
  {
   "cell_type": "code",
   "execution_count": 26,
   "metadata": {},
   "outputs": [
    {
     "name": "stdout",
     "output_type": "stream",
     "text": [
      "[0 1 2 3 4 5 6 7 8 9]\n"
     ]
    }
   ],
   "source": [
    "k = np.arange(10)\n",
    "print(k)"
   ]
  },
  {
   "cell_type": "code",
   "execution_count": null,
   "metadata": {},
   "outputs": [],
   "source": []
  }
 ],
 "metadata": {
  "kernelspec": {
   "display_name": "Python 2",
   "language": "python",
   "name": "python2"
  },
  "language_info": {
   "codemirror_mode": {
    "name": "ipython",
    "version": 2
   },
   "file_extension": ".py",
   "mimetype": "text/x-python",
   "name": "python",
   "nbconvert_exporter": "python",
   "pygments_lexer": "ipython2",
   "version": "2.7.15"
  }
 },
 "nbformat": 4,
 "nbformat_minor": 2
}
